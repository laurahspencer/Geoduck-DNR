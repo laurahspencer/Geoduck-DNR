{
 "cells": [
  {
   "cell_type": "markdown",
   "metadata": {},
   "source": [
    "## In this notebook I will run PECAN on the DNR geoduck peptide data files. \n",
    "\n",
    "## _Important note!: PECAN is extremely memory intensive. Prior to running, consider only running one or two sample files. Also, don't run files from MS/MS blanks with sample files if you can help it!_  \n",
    "\n",
    "### Prior to executing, I did the following; all programs installed on lab computer Emu:\n",
    "  * Obtained a [background proteome file](https://raw.githubusercontent.com/sr320/paper-pano-go/52c6b18b5b09e5c3a49250cf47ad4ddc8e9dc004/data-results/Geoduck-transcriptome-v2.transdecoder.pep) from the geoduck gonad transcriptome, a protein fasta file (provided by Steven).\n",
    "  * Digested the proteome file in silico using Protein Digestion Simulator. See notebook for more details. \n",
    "  * Obtained the PRTC protein sequence fasta file, converted it to .tabular and merged with the digested proteome file. Combined file is: 2017-02-19_Geoduck-database4pecan.tabular \n",
    "  * Obtained the isolation scheme file (from Emma), DNR_Geoduck_IsolationScheme.txt, and converted to .csv\n",
    "  * Converted the .raw files that are produced by Lumos to .mzML using MSConvert. Steven did this for me (need to record process). \n",
    "  * Created a .txt file with list of paths to all mzML files: DNR_Geoduck_mzMLpath.txt \n",
    "  * Created a .txt file with path to the background proteome database: DNR_Geoduck_DatabasePath.txt "
   ]
  },
  {
   "cell_type": "code",
   "execution_count": 3,
   "metadata": {
    "collapsed": false
   },
   "outputs": [
    {
     "name": "stdout",
     "output_type": "stream",
     "text": [
      "\r\n",
      "File does not exist: /Users/yst/PycharmProjects/pecan_repo/test/DB/human_20150911_uniprot_sp_digested_Mass600to4000.txt\r\n",
      "\r\n",
      "Please confirm the file path in: /usr/local/lib/python2.7/dist-packages/PECAN-0.9.9.3-py2.7.egg/PECAN/PecanUtil/config\r\n",
      "\r\n"
     ]
    }
   ],
   "source": [
    "! pecanpie -o ~/srlab/Documents/Laura/DNR_geoduck/Pecan_2017-02-21_geoduck \\\n",
    "-b ~/srlab/Documents/Laura/DNR_geoduck/2017-02-19_Geoduck-database4pecan.tabular \\\n",
    "-n DNR_geoduck_SpLibrary --isolationSchemeType TARGET -w isolationWindowWidth \\\n",
    "--pecanMemRequest 16 \\\n",
    "~/srlab/Documents/Laura/DNR_geoduck/DNR_Geoduck_mzMLpath.txt \\\n",
    "~/srlab/Documents/Laura/DNR_geoduck/DNR_Geoduck_DatabasePath.txt \\\n",
    "~/srlab/Documents/Laura/DNR_geoduck/DNR_Geoduck_IsolationScheme.txt \\\n",
    "--fido --jointPercolator"
   ]
  },
  {
   "cell_type": "markdown",
   "metadata": {},
   "source": [
    "### That didn't work; did some trouble shooting with help from Sean & Emma, [see github issue](https://github.com/sr320/LabDocs/issues/472#issuecomment-281236200): changed the database format to .txt, and also modified the Isolation Scheme format from 1 column to 2 column \"windows\", then tried again:"
   ]
  },
  {
   "cell_type": "code",
   "execution_count": 4,
   "metadata": {
    "collapsed": false
   },
   "outputs": [
    {
     "name": "stdout",
     "output_type": "stream",
     "text": [
      "\r\n",
      "File does not exist: /Users/yst/PycharmProjects/pecan_repo/test/DB/human_20150911_uniprot_sp_digested_Mass600to4000.txt\r\n",
      "\r\n",
      "Please confirm the file path in: /usr/local/lib/python2.7/dist-packages/PECAN-0.9.9.3-py2.7.egg/PECAN/PecanUtil/config\r\n",
      "\r\n"
     ]
    }
   ],
   "source": [
    "! pecanpie -o ~/srlab/Documents/Laura/DNR_geoduck/Pecan_2017-02-21_geoduck \\\n",
    "-b ~/srlab/Documents/Laura/DNR_geoduck/2017-02-19_Geoduck-database4pecan.txt \\\n",
    "-n DNR_geoduck_SpLibrary --isolationSchemeType TARGET -w isolationWindowWidth \\\n",
    "--pecanMemRequest 16 \\\n",
    "~/srlab/Documents/Laura/DNR_geoduck/DNR_Geoduck_mzMLpath.txt \\\n",
    "~/srlab/Documents/Laura/DNR_geoduck/DNR_Geoduck_DatabasePath.txt \\\n",
    "~/srlab/Documents/Laura/DNR_geoduck/DNR_Geoduck_IsolationScheme.txt \\\n",
    "--fido --jointPercolator"
   ]
  },
  {
   "cell_type": "markdown",
   "metadata": {},
   "source": [
    "### Didn't work again. Let's try converting all the tabs to character spaces in the database file:"
   ]
  },
  {
   "cell_type": "code",
   "execution_count": 5,
   "metadata": {
    "collapsed": false
   },
   "outputs": [
    {
     "name": "stdout",
     "output_type": "stream",
     "text": [
      "expand: /home/srlab/srlab/Documents/Laura/DNR_geoduck/2017-02-19_Geoduck-database4pecan.txt: No such file or directory\r\n"
     ]
    }
   ],
   "source": [
    "! expand ~/srlab/Documents/Laura/DNR_geoduck/2017-02-19_Geoduck-database4pecan.txt"
   ]
  },
  {
   "cell_type": "code",
   "execution_count": 6,
   "metadata": {
    "collapsed": false
   },
   "outputs": [
    {
     "name": "stdout",
     "output_type": "stream",
     "text": [
      "head: cannot open '/home/srlab/srlab/Documents/Laura/DNR_geoduck/2017-02-19_Geoduck-database4pecan.txt' for reading: No such file or directory\r\n"
     ]
    }
   ],
   "source": [
    "! head ~/srlab/Documents/Laura/DNR_geoduck/2017-02-19_Geoduck-database4pecan.txt"
   ]
  },
  {
   "cell_type": "markdown",
   "metadata": {
    "collapsed": true
   },
   "source": [
    "### File paths could be the issue:"
   ]
  },
  {
   "cell_type": "code",
   "execution_count": 7,
   "metadata": {
    "collapsed": false
   },
   "outputs": [
    {
     "name": "stdout",
     "output_type": "stream",
     "text": [
      "\r\n",
      "File does not exist: /Users/yst/PycharmProjects/pecan_repo/test/DB/human_20150911_uniprot_sp_digested_Mass600to4000.txt\r\n",
      "\r\n",
      "Please confirm the file path in: /usr/local/lib/python2.7/dist-packages/PECAN-0.9.9.3-py2.7.egg/PECAN/PecanUtil/config\r\n",
      "\r\n"
     ]
    }
   ],
   "source": [
    "! pecanpie -o /home/srlab/Documents/Laura/DNR_geoduck/Pecan_2017-02-21_geoduck \\\n",
    "-b /home/srlab/Documents/Laura/DNR_geoduck/2017-02-19_Geoduck-database4pecan.txt \\\n",
    "-n DNR_geoduck_SpLibrary --isolationSchemeType BOARDER \\\n",
    "--pecanMemRequest 16 \\\n",
    "/home/srlab/Documents/Laura/DNR_geoduck/DNR_Geoduck_mzMLpath.txt \\\n",
    "/home/srlab/Documents/Laura/DNR_geoduck/DNR_Geoduck_DatabasePath.txt \\\n",
    "/home/srlab/Documents/Laura/DNR_geoduck/DNR_Geoduck_IsolationScheme.txt \\\n",
    "--fido --jointPercolator"
   ]
  },
  {
   "cell_type": "markdown",
   "metadata": {},
   "source": [
    "### Nope. Ok, actually converting from tab to character spaces this time: "
   ]
  },
  {
   "cell_type": "code",
   "execution_count": 11,
   "metadata": {
    "collapsed": true
   },
   "outputs": [],
   "source": [
    "! expand -t 8 /home/srlab/Documents/Laura/DNR_geoduck/2017-02-19_Geoduck-database4pecan.txt > \\\n",
    "/home/srlab/Documents/Laura/DNR_geoduck/2017-02-19_Geoduck-database4pecan_char.txt"
   ]
  },
  {
   "cell_type": "code",
   "execution_count": 10,
   "metadata": {
    "collapsed": false
   },
   "outputs": [
    {
     "name": "stdout",
     "output_type": "stream",
     "text": [
      "\r\n",
      "File does not exist: /Users/yst/PycharmProjects/pecan_repo/test/DB/human_20150911_uniprot_sp_digested_Mass600to4000.txt\r\n",
      "\r\n",
      "Please confirm the file path in: /usr/local/lib/python2.7/dist-packages/PECAN-0.9.9.3-py2.7.egg/PECAN/PecanUtil/config\r\n",
      "\r\n"
     ]
    }
   ],
   "source": [
    "! pecanpie -o /home/srlab/Documents/Laura/DNR_geoduck/Pecan_2017-02-21_geoduck \\\n",
    "-b /home/srlab/Documents/Laura/DNR_geoduck/2017-02-19_Geoduck-database4pecan_char.txt \\\n",
    "-n DNR_geoduck_SpLibrary --isolationSchemeType BOARDER \\\n",
    "--pecanMemRequest 16 \\\n",
    "/home/srlab/Documents/Laura/DNR_geoduck/DNR_Geoduck_mzMLpath.txt \\\n",
    "/home/srlab/Documents/Laura/DNR_geoduck/DNR_Geoduck_DatabasePath.txt \\\n",
    "/home/srlab/Documents/Laura/DNR_geoduck/DNR_Geoduck_IsolationScheme.txt \\\n",
    "--fido --jointPercolator"
   ]
  },
  {
   "cell_type": "markdown",
   "metadata": {},
   "source": [
    "### Still no. Emma emailed Sonia and this was her reply: \n",
    "\n",
    "The path to the file is incorrect as stated in the last line\n",
    "\"Please confirm the file path in ....\"\n",
    "\n",
    "If you wish to have pecanpie to provide some species db by default, put them under /your/dir/path and change the corresponding address in the config file to /your/dir/path\n",
    "\n",
    "#### Sean added my 2017-02-19_Geoduck-database4pecan.tabular file to the PECAN util folder; this is now saved as a new -s [species] called \"LAURAGEO\".  "
   ]
  },
  {
   "cell_type": "code",
   "execution_count": 1,
   "metadata": {
    "collapsed": false
   },
   "outputs": [
    {
     "name": "stdout",
     "output_type": "stream",
     "text": [
      "\r\n",
      "File does not exist: /Users/yst/PycharmProjects/pecan_repo/test/DB/human_20150911_uniprot_sp_digested_Mass600to4000.txt\r\n",
      "\r\n",
      "Please confirm the file path in: /usr/local/lib/python2.7/dist-packages/PECAN-0.9.9.3-py2.7.egg/PECAN/PecanUtil/config\r\n",
      "\r\n"
     ]
    }
   ],
   "source": [
    "! pecanpie -o /home/srlab/Documents/Laura/DNR_geoduck/Pecan_2017-02-21_geoduck \\\n",
    "-s LAURAGEO \\\n",
    "-n DNR_geoduck_SpLibrary --isolationSchemeType BOARDER \\\n",
    "--pecanMemRequest 16 \\\n",
    "/home/srlab/Documents/Laura/DNR_geoduck/DNR_Geoduck_mzMLpath.txt \\\n",
    "/home/srlab/Documents/Laura/DNR_geoduck/DNR_Geoduck_DatabasePath.txt \\\n",
    "/home/srlab/Documents/Laura/DNR_geoduck/DNR_Geoduck_IsolationScheme.txt \\\n",
    "--fido --jointPercolator"
   ]
  },
  {
   "cell_type": "markdown",
   "metadata": {},
   "source": [
    "### Still no dice. Something is wrong with the pecanpie config path"
   ]
  },
  {
   "cell_type": "code",
   "execution_count": 2,
   "metadata": {
    "collapsed": false
   },
   "outputs": [
    {
     "name": "stdout",
     "output_type": "stream",
     "text": [
      "\r\n",
      "File does not exist: /home/srlab/Documents/Laura/Jupyter\r\n",
      "\r\n",
      "Please confirm the file path in: /home/srlab/Documents/Laura/DNR_geoduck/DNR_Geoduck_mzMLpath.txt\r\n",
      "\r\n"
     ]
    }
   ],
   "source": [
    "pecanpie -o /home/srlab/Documents/Laura/DNR_geoduck/Pecan_2017-02-21_geoduck \\\n",
    "-s LAURAGEO \\\n",
    "-n DNR_geoduck_SpLibrary --isolationSchemeType BOARDER \\\n",
    "--pecanMemRequest 16 \\\n",
    "/home/srlab/Documents/Laura/DNR_geoduck/DNR_Geoduck_mzMLpath.txt \\\n",
    "/home/srlab/Documents/Laura/DNR_geoduck/DNR_Geoduck_DatabasePath.txt \\\n",
    "/home/srlab/Documents/Laura/DNR_geoduck/DNR_Geoduck_IsolationScheme.txt \\\n",
    "--fido --jointPercolator"
   ]
  },
  {
   "cell_type": "markdown",
   "metadata": {},
   "source": [
    "### Trouble shooting by Sean: \n",
    "\n",
    "#### In addition to Sean adding my background proteome file to the Pecan configure file as a species called \"LAURAGEO\" (as identified above), Sean did some background re-configuring in Emu/Pecan. See his [notebook entry](https://genefish.wordpress.com/2017/02/24/more-proteomics-software-fun/). \n",
    "\n",
    "#### Sean also figured out that the .txt file that provides all the mzML file paths assumes that the mzML files are located in the same parent directories, so you cannot include all the parent directories in the file paths (it gets confused).  So, all file paths in my .txt files were simpified, and one directory was created housing all files pertinent to the Pecan run. \n",
    "\n",
    "#### Let's look at the input files that I made: "
   ]
  },
  {
   "cell_type": "code",
   "execution_count": 1,
   "metadata": {
    "collapsed": false
   },
   "outputs": [
    {
     "data": {
      "text/plain": [
       "'/Users/shlaura3/Documents/Roberts Lab/DNR_Geoduck/Documentation'"
      ]
     },
     "execution_count": 1,
     "metadata": {},
     "output_type": "execute_result"
    }
   ],
   "source": [
    "pwd"
   ]
  },
  {
   "cell_type": "code",
   "execution_count": 3,
   "metadata": {
    "collapsed": false
   },
   "outputs": [
    {
     "name": "stdout",
     "output_type": "stream",
     "text": [
      "2017-02-19_Geoduck-database4pecan.tabular\r\n",
      "DNR_Geoduck_DatabasePath.txt\r\n",
      "DNR_Geoduck_IsolationScheme.csv\r\n",
      "DNR_Geoduck_mzMLpath.txt\r\n",
      "P00000_Pierce_prtc.fasta\r\n",
      "Pierce_PRTC.tabular\r\n"
     ]
    }
   ],
   "source": [
    "ls ../Analyses/Pecan/"
   ]
  },
  {
   "cell_type": "code",
   "execution_count": 4,
   "metadata": {
    "collapsed": false
   },
   "outputs": [
    {
     "name": "stdout",
     "output_type": "stream",
     "text": [
      "2017-02-19_Geoduck-database4pecan.tabular\r\n"
     ]
    }
   ],
   "source": [
    "! cat ../Analyses/Pecan/DNR_Geoduck_DatabasePath.txt"
   ]
  },
  {
   "cell_type": "code",
   "execution_count": 5,
   "metadata": {
    "collapsed": false
   },
   "outputs": [
    {
     "name": "stdout",
     "output_type": "stream",
     "text": [
      "455.456911\t465.461459\r\n",
      "465.461459\t475.466006\r\n",
      "475.466006\t485.470554\r\n",
      "485.470554\t495.475101\r\n",
      "495.475101\t505.479649\r\n",
      "505.479649\t515.484196\r\n",
      "515.484196\t525.488744\r\n",
      "525.488744\t535.493291\r\n",
      "535.493291\t545.497839\r\n",
      "545.497839\t555.502386\r\n",
      "555.502386\t565.506934\r\n",
      "565.506934\t575.511481\r\n",
      "575.511481\t585.516029\r\n",
      "585.516029\t595.520576\r\n",
      "595.520576\t605.525124\r\n",
      "605.525124\t615.529671\r\n",
      "615.529671\t625.534219\r\n",
      "625.534219\t635.538766\r\n",
      "635.538766\t645.543314\r\n",
      "645.543314\t655.547861\r\n",
      "655.547861\t665.552409\r\n",
      "665.552409\t675.556956\r\n",
      "675.556956\t685.561504\r\n",
      "685.561504\t695.566051\r\n",
      "695.566051\t705.570599\r\n",
      "705.570599\t715.575146\r\n",
      "715.575146\t725.579694\r\n",
      "725.579694\t735.584241\r\n",
      "735.584241\t745.588789\r\n",
      "745.588789\t755.593336\r\n",
      "755.593336\t765.597884\r\n",
      "765.597884\t775.602431\r\n",
      "775.602431\t785.606979\r\n",
      "785.606979\t795.611526\r\n",
      "795.611526\t805.616074\r\n",
      "805.616074\t815.620621\r\n",
      "815.620621\t825.625169\r\n",
      "825.625169\t835.629716\r\n",
      "835.629716\t845.634264\r\n",
      "845.634264\t855.638811\r\n",
      "450.454638\t460.459185\r\n",
      "460.459185\t470.463732\r\n",
      "470.463732\t480.46828\r\n",
      "480.46828\t490.472827\r\n",
      "490.472827\t500.477375\r\n",
      "500.477375\t510.481922\r\n",
      "510.481922\t520.48647\r\n",
      "520.48647\t530.491017\r\n",
      "530.491017\t540.495565\r\n",
      "540.495565\t550.500112\r\n",
      "550.500112\t560.50466\r\n",
      "560.50466\t570.509207\r\n",
      "570.509207\t580.513755\r\n",
      "580.513755\t590.518302\r\n",
      "590.518302\t600.52285\r\n",
      "600.52285\t610.527397\r\n",
      "610.527397\t620.531945\r\n",
      "620.531945\t630.536492\r\n",
      "630.536492\t640.54104\r\n",
      "640.54104\t650.545587\r\n",
      "650.545587\t660.550135\r\n",
      "660.550135\t670.554682\r\n",
      "670.554682\t680.55923\r\n",
      "680.55923\t690.563777\r\n",
      "690.563777\t700.568325\r\n",
      "700.568325\t710.572872\r\n",
      "710.572872\t720.57742\r\n",
      "720.57742\t730.581967\r\n",
      "730.581967\t740.586515\r\n",
      "740.586515\t750.591062\r\n",
      "750.591062\t760.59561\r\n",
      "760.59561\t770.600157\r\n",
      "770.600157\t780.604705\r\n",
      "780.604705\t790.609252\r\n",
      "790.609252\t800.6138\r\n",
      "800.6138\t810.618347\r\n",
      "810.618347\t820.622895\r\n",
      "820.622895\t830.627442\r\n",
      "830.627442\t840.63199\r\n",
      "840.63199\t850.636537\r\n"
     ]
    }
   ],
   "source": [
    "! cat ../Analyses/Pecan/DNR_Geoduck_IsolationScheme.csv"
   ]
  },
  {
   "cell_type": "code",
   "execution_count": 6,
   "metadata": {
    "collapsed": false
   },
   "outputs": [
    {
     "name": "stdout",
     "output_type": "stream",
     "text": [
      "2017_January_23_envtstress_blank10.mzML\r\n",
      "2017_January_23_envtstress_blank11.mzML\r\n",
      "2017_January_23_envtstress_blank12.mzML\r\n",
      "2017_January_23_envtstress_blank13.mzML\r\n",
      "2017_January_23_envtstress_blank14.mzML\r\n",
      "2017_January_23_envtstress_blank15.mzML\r\n",
      "2017_January_23_envtstress_blank16.mzML\r\n",
      "2017_January_23_envtstress_blank18.mzML\r\n",
      "2017_January_23_envtstress_blank19.mzML\r\n",
      "2017_January_23_envtstress_blank1.mzML\r\n",
      "2017_January_23_envtstress_blank20.mzML\r\n",
      "2017_January_23_envtstress_blank21_170126134757.mzML\r\n",
      "2017_January_23_envtstress_blank21.mzML\r\n",
      "2017_January_23_envtstress_blank2_2.mzML\r\n",
      "2017_January_23_envtstress_blank22.mzML\r\n",
      "2017_January_23_envtstress_blank23.mzML\r\n",
      "2017_January_23_envtstress_blank24.mzML\r\n",
      "2017_January_23_envtstress_blank2.mzML\r\n",
      "2017_January_23_envtstress_blank3.mzML\r\n",
      "2017_January_23_envtstress_blank4.mzML\r\n",
      "2017_January_23_envtstress_blank5.mzML\r\n",
      "2017_January_23_envtstress_blank6.mzML\r\n",
      "2017_January_23_envtstress_blank7_170124182434.mzML\r\n",
      "2017_January_23_envtstress_blank7.mzML\r\n",
      "2017_January_23_envtstress_blank8_170124213729.mzML\r\n",
      "2017_January_23_envtstress_blank8.mzML\r\n",
      "2017_January_23_envtstress_blank9.mzML\r\n",
      "2017_January_23_envtstress_geoduck10.mzML\r\n",
      "2017_January_23_envtstress_geoduck11.mzML\r\n",
      "2017_January_23_envtstress_geoduck12.mzML\r\n",
      "2017_January_23_envtstress_geoduck13.mzML\r\n",
      "2017_January_23_envtstress_geoduck14.mzML\r\n",
      "2017_January_23_envtstress_geoduck15.mzML\r\n",
      "2017_January_23_envtstress_geoduck17.mzML\r\n",
      "2017_January_23_envtstress_geoduck18.mzML\r\n",
      "2017_January_23_envtstress_geoduck19.mzML\r\n",
      "2017_January_23_envtstress_geoduck1.mzML\r\n",
      "2017_January_23_envtstress_geoduck20.mzML\r\n",
      "2017_January_23_envtstress_geoduck2.mzML\r\n",
      "2017_January_23_envtstress_geoduck3.mzML\r\n",
      "2017_January_23_envtstress_geoduck4.mzML\r\n",
      "2017_January_23_envtstress_geoduck5.mzML\r\n",
      "2017_January_23_envtstress_geoduck6.mzML\r\n",
      "2017_January_23_envtstress_geoduck7_170124190430.mzML\r\n",
      "2017_January_23_envtstress_geoduck7.mzML\r\n",
      "2017_January_23_envtstress_geoduck8.mzML\r\n",
      "2017_January_23_envtstress_geoduck9.mzML\r\n"
     ]
    }
   ],
   "source": [
    "! cat ../Analyses/Pecan/DNR_Geoduck_mzMLpath.txt"
   ]
  },
  {
   "cell_type": "markdown",
   "metadata": {},
   "source": [
    "---\n",
    "\n",
    "### Below is the final Pecan script. Here are some definitions/explanations of the inputs\n",
    "\n",
    "  * `-o` Output directory  \n",
    "  * `-s LAURAGEO` Database used (my digested proteome was added to the .config file and named \"LAURAGEO\", since the `-b` override didn't work).  \n",
    "  * `-n` the name of my output .blib file; no need to include a .blib file ending  \n",
    "  * `--isolationSchemeType BOARDER` I used BOARDER because my isolation scheme format is ranges of m/z (2 columns). Note: BOARDER is spelled wrong (should be BORDER), but that's how Pecan spells it  \n",
    "  * `--pecanMemRequest 48` We tried 16 but Pecan requested 94. The max Emu allows for is 48, so that's the best we can do.   \n",
    "  * Need to specify the mzMLpath.txt, DatabasePath.txt, and IsolationScheme.csv files in that order  \n",
    "  * `--fido`  Not exactly sure what this does; from the [Evernote Tutorial](https://www.evernote.com/shard/s347/sh/edcb06ab-d008-418f-b28f-52f6614f1c39/2984ab55f427fcfe) the command tells Pecan to \"Include protein inference using FIDO in percolator\"  \n",
    "  * `--jointPercolator` Include Percolator step in the Pecan run.  \n",
    "  \n",
    "NOTE: I did not execute the below commands through Jupyter Notebook in anticipation of the processor/memory intensive program.  This is highly recommended. Also, in trouble shooting for me Sean was the person who actually hit \"go\" "
   ]
  },
  {
   "cell_type": "code",
   "execution_count": null,
   "metadata": {
    "collapsed": true
   },
   "outputs": [],
   "source": [
    "# Setting up Pecan directories\n",
    "pecanpie -o /home/srlab/Documents/Laura/DNR_geoduck/Pecan3 \\\n",
    "-s LAURAGEO \\\n",
    "-n DNR_geoduck_SpLibrary --isolationSchemeType BOARDER \\\n",
    "--pecanMemRequest 48 \\\n",
    "/home/srlab/Documents/Laura/DNR_geoduck/DNR_Geoduck_mzMLpath.txt \\\n",
    "/home/srlab/Documents/Laura/DNR_geoduck/DNR_Geoduck_DatabasePath.txt \\\n",
    "/home/srlab/Documents/Laura/DNR_geoduck/DNR_Geoduck_IsolationScheme.csv \\\n",
    "--fido --jointPercolator"
   ]
  },
  {
   "cell_type": "code",
   "execution_count": null,
   "metadata": {
    "collapsed": true
   },
   "outputs": [],
   "source": [
    "# Then, execute the command! \n",
    "cd /home/srlab/Documents/Laura/DNR_geoduck/Pecan3 \\\n",
    "./run_search.sh`"
   ]
  },
  {
   "cell_type": "code",
   "execution_count": null,
   "metadata": {
    "collapsed": true
   },
   "outputs": [],
   "source": []
  }
 ],
 "metadata": {
  "anaconda-cloud": {},
  "kernelspec": {
   "display_name": "Python [default]",
   "language": "python",
   "name": "python3"
  },
  "language_info": {
   "codemirror_mode": {
    "name": "ipython",
    "version": 3
   },
   "file_extension": ".py",
   "mimetype": "text/x-python",
   "name": "python",
   "nbconvert_exporter": "python",
   "pygments_lexer": "ipython3",
   "version": "3.5.2"
  }
 },
 "nbformat": 4,
 "nbformat_minor": 2
}
