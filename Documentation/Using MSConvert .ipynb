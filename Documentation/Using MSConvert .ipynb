{
 "cells": [
  {
   "cell_type": "markdown",
   "metadata": {},
   "source": [
    "# Demultiplexing and converting from .raw to .mzML\n",
    "\n",
    "### This notebook shows how to use MSConvert at the command line to convert .raw data files from the Lumos MS/MS to .mzML and simultaneously demultiplex the data. This is the first step in data analysis/processing after receiving the .raw files from Lumos. \n",
    "\n",
    "Softward used: MSConvert, in the [ProteoWizard package](http://proteowizard.sourceforge.net/tools.shtml) (INSERT VERSION HERE - GET FROM WOODPECKER)\n"
   ]
  },
  {
   "cell_type": "markdown",
   "metadata": {},
   "source": [
    "### When converting .raw files (from Lumos MSMS) to .mzml, I need to demultiplex the data which is a simple argument in the MSConvert command line script. MSConvert (and all the programs needed for processing Lumos data files) requires Windows. For this workflow I'm using the Roberts Lab's Woodpecker machine.\n",
    "\n",
    "* Step 1: Download .raw files from Owl to local folder on Windows computer; did this via GUI"
   ]
  },
  {
   "cell_type": "markdown",
   "metadata": {},
   "source": [
    "  * Step 2: Extract the files from the .zip folder didn't work, as only a few files extracted correctly and the rest resulted in 0kb files. I thus downloaded WinZip program to computer and unzipped."
   ]
  },
  {
   "cell_type": "markdown",
   "metadata": {},
   "source": [
    "  * Step 3: Open command window. To do so on Windows search for: cmd.exe"
   ]
  },
  {
   "cell_type": "markdown",
   "metadata": {},
   "source": [
    "  * Step 4: Change working directory to the folder containin .raw files: `cd C:\\Users\\srlab\\Documents\\geo-DNR\\Lumos_Raw\\`"
   ]
  },
  {
   "cell_type": "markdown",
   "metadata": {},
   "source": [
    "  * Step 5: Use the following script outlined in the DIA data Analyses instructions, with a couple directory edits. This first run only includes 1 file, so I can see if I get any errors: `C:\\Users\\srlab\\Documents\\oystertest\\20170412_pwiz_testBuild_addMinWindowSize\\msconvert.exe --zlib --64 --mzML --filter \"peakPicking true 1-2\" --filter \"demultiplex optimization=overlap_only\" 2017_January_23_envtstress_geoduck1.raw`\n",
    "  \n",
    "![First MSConvert run](https://cloud.githubusercontent.com/assets/17264765/25066850/151bc0ea-21e7-11e7-9241-e036f3b2f3b1.png)"
   ]
  },
  {
   "cell_type": "markdown",
   "metadata": {},
   "source": [
    "  * Step 6: No errors! To run more files in tandem, open up more terminal windows, navigate to the directory housing the .raw files, and enter the same script (with different file names). I have 4 windows running at the same time, on geoduck1-geoduck4.\n",
    "\n",
    "![four concurrent windows](https://cloud.githubusercontent.com/assets/17264765/25056994/6b4f2d74-2121-11e7-80d2-859ee8f742a5.png)"
   ]
  },
  {
   "cell_type": "code",
   "execution_count": null,
   "metadata": {
    "collapsed": true
   },
   "outputs": [],
   "source": []
  }
 ],
 "metadata": {
  "anaconda-cloud": {},
  "kernelspec": {
   "display_name": "Python [default]",
   "language": "python",
   "name": "python3"
  },
  "language_info": {
   "codemirror_mode": {
    "name": "ipython",
    "version": 3
   },
   "file_extension": ".py",
   "mimetype": "text/x-python",
   "name": "python",
   "nbconvert_exporter": "python",
   "pygments_lexer": "ipython3",
   "version": "3.5.2"
  }
 },
 "nbformat": 4,
 "nbformat_minor": 1
}
